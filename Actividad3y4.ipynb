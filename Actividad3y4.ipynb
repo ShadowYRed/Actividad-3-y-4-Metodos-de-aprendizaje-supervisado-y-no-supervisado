{
 "cells": [
  {
   "cell_type": "code",
   "execution_count": 7,
   "metadata": {},
   "outputs": [
    {
     "ename": "SyntaxError",
     "evalue": "source code string cannot contain null bytes (<string>)",
     "output_type": "error",
     "traceback": [
      "Traceback \u001b[1;36m(most recent call last)\u001b[0m:\n",
      "\u001b[0m  File \u001b[0;32m~\\AppData\\Roaming\\Python\\Python312\\site-packages\\IPython\\core\\interactiveshell.py:3577\u001b[0m in \u001b[0;35mrun_code\u001b[0m\n    exec(code_obj, self.user_global_ns, self.user_ns)\u001b[0m\n",
      "\u001b[1;36m  Cell \u001b[1;32mIn[7], line 1\u001b[1;36m\n\u001b[1;33m    from sklearn.model_selection import train_test_split\u001b[1;36m\n",
      "\u001b[1;36m  File \u001b[1;32m<string>\u001b[1;36m\u001b[0m\n\u001b[1;31mSyntaxError\u001b[0m\u001b[1;31m:\u001b[0m source code string cannot contain null bytes\n"
     ]
    }
   ],
   "source": [
    "from sklearn.model_selection import train_test_split\n",
    "from sklearn.linear_model import LinearRegression\n",
    "from sklearn.metrics import mean_squared_error\n",
    "import numpy as np\n",
    "\n",
    "# Datos de ejemplo\n",
    "X = np.array([[1, 2, 3], [4, 5, 6], [7, 8, 9]])\n",
    "y = np.array([10, 20, 30])\n",
    "\n",
    "# Paso 1: Dividir los datos en conjuntos de entrenamiento y prueba\n",
    "X_train, X_test, y_train, y_test = train_test_split(X, y, test_size=0.2, random_state=42)\n",
    "\n",
    "# Paso 2: Seleccionar el modelo\n",
    "model = LinearRegression()\n",
    "\n",
    "# Paso 3: Entrenar el modelo\n",
    "model.fit(X_train, y_train)\n",
    "\n",
    "# Paso 4: Evaluar el modelo\n",
    "y_pred = model.predict(X_test)\n",
    "mse = mean_squared_error(y_test, y_pred)\n",
    "print(\"Error cuadrático medio:\", mse)\n"
   ]
  },
  {
   "cell_type": "code",
   "execution_count": null,
   "metadata": {},
   "outputs": [],
   "source": [
    "from sklearn.cluster import KMeans\n",
    "import numpy as np\n",
    "\n",
    "# Supongamos que tienes un conjunto de datos X que quieres agrupar\n",
    "\n",
    "# Paso 1: Preparar los datos (ya tienes X)\n",
    "\n",
    "# Paso 2: Seleccionar el modelo\n",
    "k = 3  # Número deseado de grupos\n",
    "model = KMeans(n_clusters=k)\n",
    "\n",
    "# Paso 3: Entrenar el modelo\n",
    "model.fit(X)\n",
    "\n",
    "# Paso 4: Evaluar el modelo (opcional, dependiendo del propósito)\n",
    "# Por ejemplo, puedes obtener los centroides de los grupos\n",
    "centroides = model.cluster_centers_\n",
    "print(\"Centroides de los grupos:\")\n",
    "print(centroides)\n",
    "\n",
    "# O puedes asignar etiquetas de grupo a los datos\n",
    "etiquetas = model.labels_\n",
    "print(\"Etiquetas de grupo:\")\n",
    "print(etiquetas)\n"
   ]
  }
 ],
 "metadata": {
  "kernelspec": {
   "display_name": "Python 3",
   "language": "python",
   "name": "python3"
  },
  "language_info": {
   "codemirror_mode": {
    "name": "ipython",
    "version": 3
   },
   "file_extension": ".py",
   "mimetype": "text/x-python",
   "name": "python",
   "nbconvert_exporter": "python",
   "pygments_lexer": "ipython3",
   "version": "3.12.2"
  }
 },
 "nbformat": 4,
 "nbformat_minor": 2
}
