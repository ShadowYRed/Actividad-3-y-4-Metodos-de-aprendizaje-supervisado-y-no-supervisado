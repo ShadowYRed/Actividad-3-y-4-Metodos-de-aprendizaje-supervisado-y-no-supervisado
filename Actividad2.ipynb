{
 "cells": [
  {
   "cell_type": "code",
   "execution_count": null,
   "metadata": {},
   "outputs": [],
   "source": [
    "import networkx as nx\n",
    "\n",
    "# Definir la red de transporte como un grafo\n",
    "red_transporte = nx.Graph()\n",
    "\n",
    "# Agregar países y conexiones entre ellos\n",
    "red_transporte.add_edge(\"USA\", \"Canada\", weight=5)\n",
    "red_transporte.add_edge(\"USA\", \"Mexico\", weight=3)\n",
    "red_transporte.add_edge(\"USA\", \"Brazil\", weight=7)\n",
    "red_transporte.add_edge(\"Canada\", \"UK\", weight=4)\n",
    "red_transporte.add_edge(\"Canada\", \"Germany\", weight=2)\n",
    "red_transporte.add_edge(\"Mexico\", \"Spain\", weight=6)\n",
    "red_transporte.add_edge(\"Brazil\", \"Argentina\", weight=3)\n",
    "red_transporte.add_edge(\"UK\", \"France\", weight=5)\n",
    "red_transporte.add_edge(\"Germany\", \"Italy\", weight=4)\n",
    "red_transporte.add_edge(\"Spain\", \"Portugal\", weight=3)\n",
    "red_transporte.add_edge(\"Argentina\", \"Chile\", weight=2)\n",
    "red_transporte.add_edge(\"France\", \"Switzerland\", weight=1)\n",
    "red_transporte.add_edge(\"Italy\", \"Greece\", weight=5)\n",
    "red_transporte.add_edge(\"Portugal\", \"Netherlands\", weight=4)\n",
    "red_transporte.add_edge(\"Chile\", \"Peru\", weight=3)\n",
    "red_transporte.add_edge(\"Switzerland\", \"Austria\", weight=2)\n",
    "red_transporte.add_edge(\"Greece\", \"Turkey\", weight=4)\n",
    "red_transporte.add_edge(\"Netherlands\", \"Belgium\", weight=2)\n",
    "\n",
    "# Función para encontrar la mejor ruta utilizando el algoritmo de Dijkstra\n",
    "def encontrar_mejor_ruta(origen, destino):\n",
    "    try:\n",
    "        mejor_ruta = nx.shortest_path(red_transporte, origen, destino, weight='weight')\n",
    "        distancia = nx.shortest_path_length(red_transporte, origen, destino, weight='weight') * 10  # Convertir cada \"unidad\" a 10 km\n",
    "        return mejor_ruta, distancia\n",
    "    except nx.NetworkXNoPath:\n",
    "        return None, float('inf')\n",
    "\n",
    "# Ejemplo de uso\n",
    "if _name_ == \"_main_\":\n",
    "    origen = input(\"Ingrese el país de origen: \")\n",
    "    destino = input(\"Ingrese el país de destino: \")\n",
    "\n",
    "    ruta_optima, distancia = encontrar_mejor_ruta(origen, destino)\n",
    "\n",
    "    if ruta_optima:\n",
    "        print(\"La mejor ruta desde {} hasta {} es: {}\".format(origen, destino, ruta_optima))\n",
    "        print(\"Distancia total: {} km\".format(distancia))\n",
    "    else:\n",
    "        print(\"No hay ruta disponible desde {} hasta {}\".format(origen, destino))"
   ]
  }
 ],
 "metadata": {
  "language_info": {
   "name": "python"
  }
 },
 "nbformat": 4,
 "nbformat_minor": 2
}
